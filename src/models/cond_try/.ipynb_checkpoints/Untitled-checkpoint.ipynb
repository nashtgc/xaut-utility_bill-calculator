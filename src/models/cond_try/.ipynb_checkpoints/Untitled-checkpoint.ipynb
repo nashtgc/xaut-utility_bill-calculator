{
 "cells": [
  {
   "cell_type": "code",
   "execution_count": 33,
   "metadata": {},
   "outputs": [],
   "source": [
    "w_rate = 3.9\n",
    "e_rate = 0.5\n",
    "\n",
    "class Calculate(object):\n",
    "\n",
    "    def __init__(self, water_bill, electric_bill ):\n",
    "        self.water = water_bill\n",
    "        self.electric = electric_bill\n",
    "\n",
    "    @staticmethod\n",
    "    def water_bill_kit(new_meter, old_meter):\n",
    "        bill_diff = int(new_meter) - int(old_meter)\n",
    "        bill = bill_diff * w_rate\n",
    "        return bill\n",
    "    \n",
    "    @staticmethod\n",
    "    def water_bill_bath(new_meter, old_meter):\n",
    "        bill_diff = int(new_meter) - int(old_meter)\n",
    "        bill = bill_diff * w_rate\n",
    "        return bill\n",
    "\n",
    "    @staticmethod\n",
    "    def electric_bill(new_meter, old_meter):\n",
    "        bill_diff = int(new_meter) - int(old_meter)\n",
    "        bill = bill_diff * e_rate\n",
    "        return bill\n",
    "    \n",
    "    \n"
   ]
  },
  {
   "cell_type": "code",
   "execution_count": 34,
   "metadata": {},
   "outputs": [
    {
     "data": {
      "text/plain": [
       "19.5"
      ]
     },
     "execution_count": 34,
     "metadata": {},
     "output_type": "execute_result"
    }
   ],
   "source": [
    "calc = Calculate.water_bill(10,5)\n",
    "calc"
   ]
  },
  {
   "cell_type": "code",
   "execution_count": 36,
   "metadata": {},
   "outputs": [],
   "source": [
    "\n",
    "\n",
    "class Total():\n",
    "    '''\n",
    "    \n",
    "    '''\n",
    "    def __init(self, water_bill_1, water_bill_2, electricity):\n",
    "        self.water_bill_1 = kitchen\n",
    "        self.water_bill_2 = bathroom\n",
    "        self.electricity = electricity \n",
    "        self.kitchen = kitchen\n",
    "        self.bathroom = bathroom\n",
    "        \n",
    "        \n",
    "        \n",
    "    def water():\n",
    "        kitchen = Calculate.water_bill()\n",
    "        bathroom = Calculate.water_bill()\n",
    "        w_total = kitchen + bathroom "
   ]
  },
  {
   "cell_type": "code",
   "execution_count": null,
   "metadata": {},
   "outputs": [],
   "source": []
  },
  {
   "cell_type": "code",
   "execution_count": null,
   "metadata": {},
   "outputs": [],
   "source": []
  }
 ],
 "metadata": {
  "kernelspec": {
   "display_name": "Python 3",
   "language": "python",
   "name": "python3"
  },
  "language_info": {
   "codemirror_mode": {
    "name": "ipython",
    "version": 3
   },
   "file_extension": ".py",
   "mimetype": "text/x-python",
   "name": "python",
   "nbconvert_exporter": "python",
   "pygments_lexer": "ipython3",
   "version": "3.7.3"
  }
 },
 "nbformat": 4,
 "nbformat_minor": 2
}
