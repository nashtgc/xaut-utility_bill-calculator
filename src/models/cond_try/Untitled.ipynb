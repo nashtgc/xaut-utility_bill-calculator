{
 "cells": [
  {
   "cell_type": "code",
   "execution_count": 40,
   "metadata": {},
   "outputs": [],
   "source": [
    "__author__ = \"nash\"\n",
    "\n",
    "w_rate = 3.9\n",
    "e_rate = 0.5\n",
    "\n",
    "class Calculate(object):\n",
    "\n",
    "    def __init__(self, water_bill, electric_bill ):\n",
    "        self.water = water_bill\n",
    "        self.electric = electric_bill\n",
    "\n",
    "    @staticmethod\n",
    "    def water_bill_kit(new_meter, old_meter):\n",
    "        bill_diff = int(new_meter) - int(old_meter)\n",
    "        bill = bill_diff * w_rate\n",
    "        return bill\n",
    "    \n",
    "    @staticmethod\n",
    "    def water_bill_bath(new_meter, old_meter):\n",
    "        bill_diff = int(new_meter) - int(old_meter)\n",
    "        bill = bill_diff * w_rate\n",
    "        return bill\n",
    "\n",
    "    @staticmethod\n",
    "    def electric_bill(new_meter, old_meter):\n",
    "        bill_diff = int(new_meter) - int(old_meter)\n",
    "        bill = bill_diff * e_rate\n",
    "        return bill\n",
    "    \n",
    "    \n"
   ]
  },
  {
   "cell_type": "code",
   "execution_count": 39,
   "metadata": {},
   "outputs": [
    {
     "data": {
      "text/plain": [
       "19.5"
      ]
     },
     "execution_count": 39,
     "metadata": {},
     "output_type": "execute_result"
    }
   ],
   "source": [
    "calc = Calculate.water_bill_bath(10,5)\n",
    "calc"
   ]
  },
  {
   "cell_type": "code",
   "execution_count": 42,
   "metadata": {},
   "outputs": [],
   "source": [
    "\n",
    "\n",
    "class Totals():\n",
    "    '''\n",
    "    \n",
    "    '''\n",
    "    def __init(self, water_bill_1, water_bill_2, electricity):\n",
    "        self.water_bill_1 = kitchen\n",
    "        self.water_bill_2 = bathroom\n",
    "        self.electricity = electricity \n",
    "        self.kitchen = kitchen\n",
    "        self.bathroom = bathroom\n",
    "        \n",
    "        \n",
    "        \n",
    "    def water():\n",
    "        kitchen = Calculate.water_bill_kit()\n",
    "        bathroom = Calculate.water_bill_bath()\n",
    "        w_total = kitchen + bathroom \n",
    "        return w_total"
   ]
  },
  {
   "cell_type": "code",
   "execution_count": 43,
   "metadata": {},
   "outputs": [
    {
     "ename": "TypeError",
     "evalue": "water_bill_kit() missing 2 required positional arguments: 'new_meter' and 'old_meter'",
     "output_type": "error",
     "traceback": [
      "\u001b[1;31m---------------------------------------------------------------------------\u001b[0m",
      "\u001b[1;31mTypeError\u001b[0m                                 Traceback (most recent call last)",
      "\u001b[1;32m<ipython-input-43-cd65c5f99481>\u001b[0m in \u001b[0;36m<module>\u001b[1;34m\u001b[0m\n\u001b[1;32m----> 1\u001b[1;33m \u001b[0mTotal\u001b[0m\u001b[1;33m.\u001b[0m\u001b[0mwater\u001b[0m\u001b[1;33m(\u001b[0m\u001b[1;33m)\u001b[0m\u001b[1;33m\u001b[0m\u001b[1;33m\u001b[0m\u001b[0m\n\u001b[0m",
      "\u001b[1;32m<ipython-input-42-6b7af650c533>\u001b[0m in \u001b[0;36mwater\u001b[1;34m()\u001b[0m\n\u001b[0;32m     13\u001b[0m \u001b[1;33m\u001b[0m\u001b[0m\n\u001b[0;32m     14\u001b[0m     \u001b[1;32mdef\u001b[0m \u001b[0mwater\u001b[0m\u001b[1;33m(\u001b[0m\u001b[1;33m)\u001b[0m\u001b[1;33m:\u001b[0m\u001b[1;33m\u001b[0m\u001b[1;33m\u001b[0m\u001b[0m\n\u001b[1;32m---> 15\u001b[1;33m         \u001b[0mkitchen\u001b[0m \u001b[1;33m=\u001b[0m \u001b[0mCalculate\u001b[0m\u001b[1;33m.\u001b[0m\u001b[0mwater_bill_kit\u001b[0m\u001b[1;33m(\u001b[0m\u001b[1;33m)\u001b[0m\u001b[1;33m\u001b[0m\u001b[1;33m\u001b[0m\u001b[0m\n\u001b[0m\u001b[0;32m     16\u001b[0m         \u001b[0mbathroom\u001b[0m \u001b[1;33m=\u001b[0m \u001b[0mCalculate\u001b[0m\u001b[1;33m.\u001b[0m\u001b[0mwater_bill_bath\u001b[0m\u001b[1;33m(\u001b[0m\u001b[1;33m)\u001b[0m\u001b[1;33m\u001b[0m\u001b[1;33m\u001b[0m\u001b[0m\n\u001b[0;32m     17\u001b[0m         \u001b[0mw_total\u001b[0m \u001b[1;33m=\u001b[0m \u001b[0mkitchen\u001b[0m \u001b[1;33m+\u001b[0m \u001b[0mbathroom\u001b[0m\u001b[1;33m\u001b[0m\u001b[1;33m\u001b[0m\u001b[0m\n",
      "\u001b[1;31mTypeError\u001b[0m: water_bill_kit() missing 2 required positional arguments: 'new_meter' and 'old_meter'"
     ]
    }
   ],
   "source": [
    "Totals.water()"
   ]
  },
  {
   "cell_type": "code",
   "execution_count": null,
   "metadata": {},
   "outputs": [],
   "source": []
  }
 ],
 "metadata": {
  "kernelspec": {
   "display_name": "Python 3",
   "language": "python",
   "name": "python3"
  },
  "language_info": {
   "codemirror_mode": {
    "name": "ipython",
    "version": 3
   },
   "file_extension": ".py",
   "mimetype": "text/x-python",
   "name": "python",
   "nbconvert_exporter": "python",
   "pygments_lexer": "ipython3",
   "version": "3.7.3"
  }
 },
 "nbformat": 4,
 "nbformat_minor": 2
}
